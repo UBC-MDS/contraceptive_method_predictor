{
 "cells": [
  {
   "cell_type": "code",
   "execution_count": 1,
   "id": "464227bb-da84-4447-a1c5-ee907df1bd56",
   "metadata": {},
   "outputs": [
    {
     "data": {
      "text/plain": [
       "'Reads data csv data from path and stores partitioned data to a local filepath as a csv.\\nUsage: split_data.py --path=<path> --out_file=<out_file> \\n \\nOptions:\\n--path=<path>               Path to read file from \\n--score_file=<score_file>   Path (including filename) of where to locally save cross val score\\n--model_path=<model_path>   Path for the model pickle file\\n'"
      ]
     },
     "execution_count": 1,
     "metadata": {},
     "output_type": "execute_result"
    }
   ],
   "source": [
    "\"\"\"Reads data csv data from path and stores partitioned data to a local filepath as a csv.\n",
    "Usage: split_data.py --path=<path> --out_file=<out_file> \n",
    " \n",
    "Options:\n",
    "--path=<path>               Path to read file from \n",
    "--score_file=<score_file>   Path (including filename) of where to locally save cross val score\n",
    "--model_path=<model_path>   Path for the model pickle file\n",
    "\"\"\""
   ]
  },
  {
   "cell_type": "code",
   "execution_count": 2,
   "id": "ac92f7c4-1ce9-4022-9768-ac509b900592",
   "metadata": {},
   "outputs": [],
   "source": [
    "import sys\n",
    "import time\n",
    "import os\n",
    "import string\n",
    "\n",
    "import matplotlib.pyplot as plt\n",
    "import numpy as np\n",
    "import pandas as pd\n",
    "from IPython.display import HTML\n",
    "import mglearn\n",
    "from IPython.display import display\n",
    "\n",
    "from sklearn.dummy import DummyClassifier, DummyRegressor\n",
    "\n",
    "from sklearn.pipeline import Pipeline, make_pipeline\n",
    "from sklearn.impute import SimpleImputer\n",
    "from sklearn.preprocessing import (\n",
    "    OneHotEncoder,\n",
    "    OrdinalEncoder,\n",
    "    PolynomialFeatures,\n",
    "    StandardScaler,\n",
    ")\n",
    "\n",
    "\n",
    "from sklearn.neighbors import KNeighborsClassifier, KNeighborsRegressor\n",
    "from sklearn.tree import DecisionTreeClassifier\n",
    "from sklearn.compose import ColumnTransformer, make_column_transformer\n",
    "from sklearn.dummy import DummyClassifier, DummyRegressor\n",
    "from sklearn.ensemble import RandomForestClassifier, RandomForestRegressor\n",
    "from sklearn.feature_extraction.text import CountVectorizer\n",
    "from sklearn.feature_selection import RFE, RFECV\n",
    "from sklearn.impute import SimpleImputer\n",
    "from sklearn.linear_model import LogisticRegression, Ridge, RidgeCV\n",
    "from sklearn.metrics import make_scorer\n",
    "from sklearn.model_selection import (\n",
    "    GridSearchCV,\n",
    "    RandomizedSearchCV,\n",
    "    ShuffleSplit,\n",
    "    cross_val_score,\n",
    "    cross_validate,\n",
    "    train_test_split,\n",
    ")\n",
    "\n",
    "from sklearn.svm import SVC, SVR\n",
    "\n",
    "%matplotlib inline"
   ]
  },
  {
   "cell_type": "code",
   "execution_count": 12,
   "id": "c8135781-0637-42fa-b59b-8cd8141c7f24",
   "metadata": {},
   "outputs": [],
   "source": [
    "# opt = docopt(__doc__)\n",
    "\n",
    "\n",
    "def main(path, out_file, model_path):\n",
    "    train_df = pd.read_csv(path)\n",
    "    \n",
    "    X_train, y_train = train_df.drop(columns=[\"Contraceptive_method_used\"]), train_df[\"Contraceptive_method_used\"]\n",
    "#     X_test, y_test = test_df.drop(columns=[\"Contraceptive_method_used\"]), test_df[\"Contraceptive_method_used\"]\n",
    "\n",
    "    #Converting it to a binary model(train set)\n",
    "    y_train = y_train.replace(1,0)\n",
    "    y_train = y_train.replace([2,3],1)\n",
    "\n",
    "    numeric_features = ['Wife_age', 'Number_of_children_ever_born']\n",
    "    ordinal_features = [\"Wife_education\",\"Husband_education\",\"Husband_occupation\", \"Standard_of_living_index\"]\n",
    "    passthrough_features = ['Wife_religion','Wife_now_working?','Media_exposure'] \n",
    "\n",
    "\n",
    "    preprocessor = make_column_transformer(\n",
    "        (make_pipeline(SimpleImputer(), StandardScaler()),numeric_features,),\n",
    "        (OrdinalEncoder(),ordinal_features,),  \n",
    "        (\"passthrough\", passthrough_features),)\n",
    "    \n",
    "    models_bal = {\n",
    "    \"decision tree\": DecisionTreeClassifier(random_state=123),\n",
    "    \"kNN\": KNeighborsClassifier(),\n",
    "    \"Logistic Regression\": LogisticRegression(max_iter=100, multi_class='ovr',random_state=123 ),\n",
    "    \"RBF SVM\": SVC(random_state=123),}\n",
    "    \n",
    "    results_bal = {}\n",
    "    results_bal_f = {}\n",
    "\n",
    "    for keys, value in models_bal.items():\n",
    "        pipe_bal = make_pipeline(preprocessor, value)\n",
    "        results_bal[keys] = cross_validate(pipe_bal, X_train, y_train, cv = 5, return_train_score = True)\n",
    "        results_bal_f[keys] = pd.DataFrame(results_bal[keys]).mean()\n",
    "    \n",
    "    try:\n",
    "        pd.DataFrame(results_bal_f).to_csv(out_file)\n",
    "    except:\n",
    "        os.makedirs(os.path.dirname(out_file))\n",
    "        pd.DataFrame(results_bal_f).to_csv(out_file)\n",
    "\n",
    "# if __name__ == \"__main__\":\n",
    "#     main(opt[\"--path\"], opt[\"--score_file\"],opt[\"--model_path\"])"
   ]
  },
  {
   "cell_type": "code",
   "execution_count": 13,
   "id": "58ed0f38-a09f-4830-863e-714b53356e7c",
   "metadata": {},
   "outputs": [],
   "source": [
    "main('../data/processed/train.csv','../results/val_score_results.csv', None)"
   ]
  },
  {
   "cell_type": "markdown",
   "id": "9405d76d-770d-4e89-843e-4ee6acf9d8b0",
   "metadata": {},
   "source": []
  }
 ],
 "metadata": {
  "kernelspec": {
   "display_name": "Python [conda env:573]",
   "language": "python",
   "name": "conda-env-573-py"
  },
  "language_info": {
   "codemirror_mode": {
    "name": "ipython",
    "version": 3
   },
   "file_extension": ".py",
   "mimetype": "text/x-python",
   "name": "python",
   "nbconvert_exporter": "python",
   "pygments_lexer": "ipython3",
   "version": "3.9.7"
  }
 },
 "nbformat": 4,
 "nbformat_minor": 5
}
