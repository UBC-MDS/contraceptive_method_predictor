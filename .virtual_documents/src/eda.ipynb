import altair as alt
import numpy as np
import pandas as pd
from sklearn.model_selection import train_test_split
# Save a vega-lite spec and a PNG blob for each plot in the notebook
alt.renderers.enable('mimetype')


# Rename the column name
df = pd.read_csv(
    "../data/raw/contraceptive.csv",
    header=0,
    names=[
        "Wife age",
        "Wife education",
        "Husband education",
        "Number of children ever born",
        "Wife religion",
        "Wife now working?",
        "Husband occupation",
        "Standard-of-living index",
        "Media exposure",
        "Contraceptive method used",
    ],
)

# Split the data into 70:30
train_df, test_df = train_test_split(df, test_size=0.3, random_state=123)
train_df.head()


train_df.info()


train_df.describe()


train_df['Contraceptive method used'].value_counts()


alt.Chart(train_df, title="Histogram of the Contraceptive Method used").mark_bar().encode(
    x=alt.X("Contraceptive method used", type="ordinal"),
    y=alt.Y("count()", title="Count"),
)


numerical_features = ["Wife age", "Number of children ever born"]
categorical_features = list(train_df.drop(columns=(numerical_features + ['Contraceptive method used'])).columns)


alt.Chart(train_df).mark_bar().encode(
    x=alt.X(alt.repeat(), type="quantitative", bin=alt.Bin(maxbins=30)),
    y=alt.Y("count()", title="Count"),
).repeat(numerical_features, title="Histogram of all numerical features")


alt.Chart(train_df).mark_bar().encode(
    x=alt.X("Wife age:Q", bin=alt.Bin(maxbins=40), title="Wife's Age"),
    y=alt.Y("count()", title="Count"),
    color="Contraceptive method used:O",
).properties(width=300, height=200).facet(
    "Contraceptive method used",
    title="Distribution of Wife's Age by Contraceptive method used",
)


alt.Chart(
    train_df
).mark_bar().encode(
    x=alt.X(
        "Number of children ever born",
        title="Number of children ever born",
        bin=alt.Bin(maxbins=30),
    ),
    y=alt.Y("count()", title="Count"),
    color="Contraceptive method used:O",
).properties(
    width=300, height=200
).facet(
    "Contraceptive method used",
    title="Distribution of the Number of Children by Contraceptive Method Used"
)


alt.Chart(train_df).mark_bar().encode(
    x=alt.X("count()", title="Count"),
    y=alt.Y(alt.repeat(), type="nominal"),
).repeat(categorical_features, columns=2, title="Histogram of all categorical features")


alt.Chart(train_df).mark_square().encode(
    x=alt.X(alt.repeat(), type="nominal"),
    y=alt.Y("Contraceptive method used:O", title="CMU"),
    color="count()",
    size="count()",
).repeat(
    categorical_features,
    columns=3,
    title="Counting combinations of all categorical features by Contraceptive method used (CMU)",
)
