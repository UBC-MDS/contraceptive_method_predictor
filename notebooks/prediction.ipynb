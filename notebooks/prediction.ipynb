{
 "cells": [
  {
   "cell_type": "code",
   "execution_count": 50,
   "id": "f9798b13-a9aa-47db-9e2b-ee753fc9255e",
   "metadata": {},
   "outputs": [],
   "source": [
    "import sys\n",
    "import time\n",
    "import os\n",
    "import string\n",
    "\n",
    "import matplotlib.pyplot as plt\n",
    "import numpy as np\n",
    "import pandas as pd\n",
    "from IPython.display import HTML\n",
    "import mglearn\n",
    "from IPython.display import display\n",
    "\n",
    "from sklearn.dummy import DummyClassifier, DummyRegressor\n",
    "\n",
    "from sklearn.pipeline import Pipeline, make_pipeline\n",
    "from sklearn.impute import SimpleImputer\n",
    "from sklearn.preprocessing import (\n",
    "    OneHotEncoder,\n",
    "    OrdinalEncoder,\n",
    "    PolynomialFeatures,\n",
    "    StandardScaler,\n",
    ")\n",
    "from sklearn.metrics import (\n",
    "    accuracy_score,\n",
    "    classification_report,\n",
    "    confusion_matrix,\n",
    "    f1_score,\n",
    "    make_scorer,\n",
    "    precision_score,\n",
    "    recall_score,\n",
    "    average_precision_score, \n",
    "    auc,\n",
    "    roc_curve,\n",
    "    precision_recall_curve\n",
    ")\n",
    "from sklearn.neighbors import KNeighborsClassifier, KNeighborsRegressor\n",
    "from sklearn.tree import DecisionTreeClassifier\n",
    "from sklearn.compose import ColumnTransformer, make_column_transformer\n",
    "from sklearn.dummy import DummyClassifier, DummyRegressor\n",
    "from sklearn.ensemble import RandomForestClassifier, RandomForestRegressor\n",
    "from sklearn.feature_extraction.text import CountVectorizer\n",
    "from sklearn.feature_selection import RFE, RFECV\n",
    "from sklearn.impute import SimpleImputer\n",
    "from sklearn.linear_model import LogisticRegression, Ridge, RidgeCV\n",
    "from sklearn.metrics import PrecisionRecallDisplay\n",
    "from sklearn.model_selection import (\n",
    "    GridSearchCV,\n",
    "    RandomizedSearchCV,\n",
    "    ShuffleSplit,\n",
    "    cross_val_score,\n",
    "    cross_validate,\n",
    "    train_test_split,\n",
    ")\n",
    "\n",
    "from sklearn.svm import SVC, SVR\n",
    "\n",
    "%matplotlib inline"
   ]
  },
  {
   "cell_type": "code",
   "execution_count": 33,
   "id": "466a83bc-82a6-42d4-a81f-f6c805c33a91",
   "metadata": {},
   "outputs": [
    {
     "data": {
      "text/html": [
       "<div>\n",
       "<style scoped>\n",
       "    .dataframe tbody tr th:only-of-type {\n",
       "        vertical-align: middle;\n",
       "    }\n",
       "\n",
       "    .dataframe tbody tr th {\n",
       "        vertical-align: top;\n",
       "    }\n",
       "\n",
       "    .dataframe thead th {\n",
       "        text-align: right;\n",
       "    }\n",
       "</style>\n",
       "<table border=\"1\" class=\"dataframe\">\n",
       "  <thead>\n",
       "    <tr style=\"text-align: right;\">\n",
       "      <th></th>\n",
       "      <th>Wife_age</th>\n",
       "      <th>Wife_education</th>\n",
       "      <th>Husband_education</th>\n",
       "      <th>Number_of_children_ever_born</th>\n",
       "      <th>Wife_religion</th>\n",
       "      <th>Wife_now_working?</th>\n",
       "      <th>Husband_occupation</th>\n",
       "      <th>Standard_of_living_index</th>\n",
       "      <th>Media_exposure</th>\n",
       "      <th>Contraceptive_method_used</th>\n",
       "    </tr>\n",
       "  </thead>\n",
       "  <tbody>\n",
       "    <tr>\n",
       "      <th>834</th>\n",
       "      <td>41</td>\n",
       "      <td>1</td>\n",
       "      <td>4</td>\n",
       "      <td>9</td>\n",
       "      <td>1</td>\n",
       "      <td>1</td>\n",
       "      <td>2</td>\n",
       "      <td>1</td>\n",
       "      <td>0</td>\n",
       "      <td>3</td>\n",
       "    </tr>\n",
       "    <tr>\n",
       "      <th>491</th>\n",
       "      <td>40</td>\n",
       "      <td>4</td>\n",
       "      <td>4</td>\n",
       "      <td>6</td>\n",
       "      <td>0</td>\n",
       "      <td>0</td>\n",
       "      <td>1</td>\n",
       "      <td>4</td>\n",
       "      <td>0</td>\n",
       "      <td>2</td>\n",
       "    </tr>\n",
       "    <tr>\n",
       "      <th>376</th>\n",
       "      <td>40</td>\n",
       "      <td>3</td>\n",
       "      <td>3</td>\n",
       "      <td>3</td>\n",
       "      <td>1</td>\n",
       "      <td>1</td>\n",
       "      <td>2</td>\n",
       "      <td>2</td>\n",
       "      <td>1</td>\n",
       "      <td>1</td>\n",
       "    </tr>\n",
       "    <tr>\n",
       "      <th>250</th>\n",
       "      <td>34</td>\n",
       "      <td>4</td>\n",
       "      <td>4</td>\n",
       "      <td>3</td>\n",
       "      <td>0</td>\n",
       "      <td>1</td>\n",
       "      <td>1</td>\n",
       "      <td>2</td>\n",
       "      <td>0</td>\n",
       "      <td>1</td>\n",
       "    </tr>\n",
       "    <tr>\n",
       "      <th>228</th>\n",
       "      <td>47</td>\n",
       "      <td>1</td>\n",
       "      <td>4</td>\n",
       "      <td>8</td>\n",
       "      <td>1</td>\n",
       "      <td>1</td>\n",
       "      <td>3</td>\n",
       "      <td>3</td>\n",
       "      <td>0</td>\n",
       "      <td>1</td>\n",
       "    </tr>\n",
       "    <tr>\n",
       "      <th>...</th>\n",
       "      <td>...</td>\n",
       "      <td>...</td>\n",
       "      <td>...</td>\n",
       "      <td>...</td>\n",
       "      <td>...</td>\n",
       "      <td>...</td>\n",
       "      <td>...</td>\n",
       "      <td>...</td>\n",
       "      <td>...</td>\n",
       "      <td>...</td>\n",
       "    </tr>\n",
       "    <tr>\n",
       "      <th>1041</th>\n",
       "      <td>24</td>\n",
       "      <td>3</td>\n",
       "      <td>3</td>\n",
       "      <td>2</td>\n",
       "      <td>1</td>\n",
       "      <td>0</td>\n",
       "      <td>3</td>\n",
       "      <td>2</td>\n",
       "      <td>0</td>\n",
       "      <td>1</td>\n",
       "    </tr>\n",
       "    <tr>\n",
       "      <th>1122</th>\n",
       "      <td>30</td>\n",
       "      <td>3</td>\n",
       "      <td>4</td>\n",
       "      <td>4</td>\n",
       "      <td>0</td>\n",
       "      <td>1</td>\n",
       "      <td>2</td>\n",
       "      <td>3</td>\n",
       "      <td>0</td>\n",
       "      <td>1</td>\n",
       "    </tr>\n",
       "    <tr>\n",
       "      <th>1346</th>\n",
       "      <td>35</td>\n",
       "      <td>2</td>\n",
       "      <td>3</td>\n",
       "      <td>6</td>\n",
       "      <td>1</td>\n",
       "      <td>1</td>\n",
       "      <td>2</td>\n",
       "      <td>3</td>\n",
       "      <td>0</td>\n",
       "      <td>3</td>\n",
       "    </tr>\n",
       "    <tr>\n",
       "      <th>1406</th>\n",
       "      <td>36</td>\n",
       "      <td>1</td>\n",
       "      <td>1</td>\n",
       "      <td>5</td>\n",
       "      <td>1</td>\n",
       "      <td>1</td>\n",
       "      <td>3</td>\n",
       "      <td>3</td>\n",
       "      <td>0</td>\n",
       "      <td>3</td>\n",
       "    </tr>\n",
       "    <tr>\n",
       "      <th>1389</th>\n",
       "      <td>38</td>\n",
       "      <td>4</td>\n",
       "      <td>4</td>\n",
       "      <td>4</td>\n",
       "      <td>1</td>\n",
       "      <td>0</td>\n",
       "      <td>1</td>\n",
       "      <td>4</td>\n",
       "      <td>0</td>\n",
       "      <td>3</td>\n",
       "    </tr>\n",
       "  </tbody>\n",
       "</table>\n",
       "<p>1031 rows × 10 columns</p>\n",
       "</div>"
      ],
      "text/plain": [
       "      Wife_age  Wife_education  Husband_education  \\\n",
       "834         41               1                  4   \n",
       "491         40               4                  4   \n",
       "376         40               3                  3   \n",
       "250         34               4                  4   \n",
       "228         47               1                  4   \n",
       "...        ...             ...                ...   \n",
       "1041        24               3                  3   \n",
       "1122        30               3                  4   \n",
       "1346        35               2                  3   \n",
       "1406        36               1                  1   \n",
       "1389        38               4                  4   \n",
       "\n",
       "      Number_of_children_ever_born  Wife_religion  Wife_now_working?  \\\n",
       "834                              9              1                  1   \n",
       "491                              6              0                  0   \n",
       "376                              3              1                  1   \n",
       "250                              3              0                  1   \n",
       "228                              8              1                  1   \n",
       "...                            ...            ...                ...   \n",
       "1041                             2              1                  0   \n",
       "1122                             4              0                  1   \n",
       "1346                             6              1                  1   \n",
       "1406                             5              1                  1   \n",
       "1389                             4              1                  0   \n",
       "\n",
       "      Husband_occupation  Standard_of_living_index  Media_exposure  \\\n",
       "834                    2                         1               0   \n",
       "491                    1                         4               0   \n",
       "376                    2                         2               1   \n",
       "250                    1                         2               0   \n",
       "228                    3                         3               0   \n",
       "...                  ...                       ...             ...   \n",
       "1041                   3                         2               0   \n",
       "1122                   2                         3               0   \n",
       "1346                   2                         3               0   \n",
       "1406                   3                         3               0   \n",
       "1389                   1                         4               0   \n",
       "\n",
       "      Contraceptive_method_used  \n",
       "834                           3  \n",
       "491                           2  \n",
       "376                           1  \n",
       "250                           1  \n",
       "228                           1  \n",
       "...                         ...  \n",
       "1041                          1  \n",
       "1122                          1  \n",
       "1346                          3  \n",
       "1406                          3  \n",
       "1389                          3  \n",
       "\n",
       "[1031 rows x 10 columns]"
      ]
     },
     "execution_count": 33,
     "metadata": {},
     "output_type": "execute_result"
    }
   ],
   "source": [
    "df = pd.read_csv(\n",
    "    \"../data/raw/contraceptive.csv\",\n",
    "    header=0,\n",
    "    names=[\n",
    "        \"Wife age\",\n",
    "        \"Wife education\",\n",
    "        \"Husband education\",\n",
    "        \"Number of children ever born\",\n",
    "        \"Wife religion\",\n",
    "        \"Wife now working?\",\n",
    "        \"Husband occupation\",\n",
    "        \"Standard_of_living index\",\n",
    "        \"Media exposure\",\n",
    "        \"Contraceptive method used\",\n",
    "    ],\n",
    ")\n",
    "\n",
    "# Split the data into 70:30\n",
    "df = df.rename(columns=lambda x: x.replace(\" \", \"_\"))\n",
    "df= df.rename(columns=lambda x: x.replace(\"'s\", \"\"))\n",
    "df\n",
    "train_df, test_df = train_test_split(df, test_size=0.3, random_state=123)\n",
    "train_df.head()\n",
    "\n",
    "train_df"
   ]
  },
  {
   "cell_type": "code",
   "execution_count": 34,
   "id": "58d65764-6da9-44ca-ba34-d32e059a9c7e",
   "metadata": {},
   "outputs": [],
   "source": [
    "X_test, y_test = test_df.drop(columns=[\"Contraceptive_method_used\"]), test_df[\"Contraceptive_method_used\"]"
   ]
  },
  {
   "cell_type": "code",
   "execution_count": 36,
   "id": "ee054a47-d018-42ad-89d6-30421f023f10",
   "metadata": {},
   "outputs": [],
   "source": [
    "#Converting it to a binary model(test set)\n",
    "y_test = y_test.replace(1,0)\n",
    "y_test = y_test.replace([2,3],1)\n"
   ]
  },
  {
   "cell_type": "code",
   "execution_count": 37,
   "id": "37afbf53-62bd-4617-9b64-06d5af6bdc6f",
   "metadata": {},
   "outputs": [],
   "source": [
    "import pickle\n",
    "\n",
    "final_svc_model = pickle.load(open(\"/Users/valliakella/Documents/UBC/522Project/contraceptive_method_predictor/results/models/final_svc.pkl\", \"rb\"))"
   ]
  },
  {
   "cell_type": "code",
   "execution_count": 38,
   "id": "c14bd916-c959-49a9-b52b-9664b3a38fab",
   "metadata": {},
   "outputs": [
    {
     "data": {
      "text/plain": [
       "Pipeline(steps=[('columntransformer',\n",
       "                 ColumnTransformer(transformers=[('pipeline',\n",
       "                                                  Pipeline(steps=[('simpleimputer',\n",
       "                                                                   SimpleImputer()),\n",
       "                                                                  ('standardscaler',\n",
       "                                                                   StandardScaler())]),\n",
       "                                                  ['Wife_age',\n",
       "                                                   'Number_of_children_ever_born']),\n",
       "                                                 ('ordinalencoder',\n",
       "                                                  OrdinalEncoder(),\n",
       "                                                  ['Wife_education',\n",
       "                                                   'Husband_education',\n",
       "                                                   'Husband_occupation',\n",
       "                                                   'Standard_of_living_index']),\n",
       "                                                 ('passthrough', 'passthrough',\n",
       "                                                  ['Wife_religion',\n",
       "                                                   'Wife_now_working?',\n",
       "                                                   'Media_exposure'])])),\n",
       "                ('svc',\n",
       "                 SVC(C=10.0, gamma=0.01, probability=True, random_state=123))])"
      ]
     },
     "execution_count": 38,
     "metadata": {},
     "output_type": "execute_result"
    }
   ],
   "source": [
    "final_svc_model"
   ]
  },
  {
   "cell_type": "code",
   "execution_count": 39,
   "id": "ac8097f5-5b9c-4392-a965-d38ab13364c1",
   "metadata": {},
   "outputs": [],
   "source": [
    "import pickle\n",
    "final_params = pickle.load(open(\"/Users/valliakella/Documents/UBC/522Project/contraceptive_method_predictor/results/models/final_params.pkl\", \"rb\"))\n",
    "                           "
   ]
  },
  {
   "cell_type": "code",
   "execution_count": 40,
   "id": "039cae49-3502-42f9-8d64-a3bd0edfae46",
   "metadata": {},
   "outputs": [
    {
     "data": {
      "text/plain": [
       "{'svc__gamma': 0.01, 'svc__class_weight': None, 'svc__C': 10.0}"
      ]
     },
     "execution_count": 40,
     "metadata": {},
     "output_type": "execute_result"
    }
   ],
   "source": [
    "final_params"
   ]
  },
  {
   "cell_type": "code",
   "execution_count": 41,
   "id": "79f4e85a-e700-4ad0-b980-de6ae756d422",
   "metadata": {},
   "outputs": [],
   "source": [
    "y_pred = final_svc_model.predict(X_test)"
   ]
  },
  {
   "cell_type": "code",
   "execution_count": 42,
   "id": "feb18829-202b-4c41-86ad-3f622b0c68f6",
   "metadata": {},
   "outputs": [
    {
     "data": {
      "text/plain": [
       "array([0, 0, 1, 1, 0, 0, 1, 0, 1, 1, 1, 0, 1, 1, 0, 0, 1, 0, 1, 1, 1, 0,\n",
       "       0, 1, 1, 1, 1, 0, 1, 1, 0, 0, 1, 0, 1, 1, 1, 0, 1, 1, 1, 1, 1, 0,\n",
       "       1, 1, 1, 1, 1, 0, 1, 1, 1, 1, 1, 1, 1, 0, 0, 0, 1, 0, 0, 1, 1, 0,\n",
       "       1, 0, 0, 1, 1, 0, 1, 1, 1, 1, 1, 1, 1, 0, 0, 1, 1, 1, 0, 0, 0, 1,\n",
       "       0, 1, 1, 0, 1, 1, 1, 1, 1, 0, 1, 1, 0, 1, 1, 1, 1, 1, 1, 1, 1, 1,\n",
       "       1, 1, 1, 1, 1, 1, 0, 1, 1, 1, 1, 1, 1, 1, 1, 1, 1, 1, 1, 0, 1, 0,\n",
       "       1, 0, 1, 0, 1, 0, 0, 1, 1, 1, 1, 1, 1, 1, 0, 0, 1, 1, 1, 0, 1, 1,\n",
       "       1, 1, 1, 0, 0, 1, 1, 1, 1, 1, 1, 1, 0, 1, 1, 1, 1, 0, 1, 1, 1, 1,\n",
       "       1, 1, 1, 1, 1, 1, 0, 1, 1, 1, 1, 0, 1, 1, 0, 0, 0, 1, 1, 1, 1, 0,\n",
       "       1, 1, 1, 1, 1, 0, 1, 1, 0, 1, 0, 1, 0, 1, 1, 1, 1, 1, 1, 0, 1, 1,\n",
       "       1, 1, 1, 1, 1, 0, 1, 0, 1, 1, 1, 1, 0, 1, 0, 1, 0, 1, 1, 1, 0, 1,\n",
       "       1, 0, 1, 1, 0, 0, 1, 0, 1, 1, 1, 1, 1, 1, 1, 0, 0, 0, 1, 0, 1, 0,\n",
       "       1, 1, 0, 1, 0, 1, 1, 1, 1, 1, 1, 0, 0, 1, 0, 1, 1, 0, 1, 1, 1, 1,\n",
       "       1, 1, 1, 1, 1, 0, 0, 1, 0, 1, 1, 1, 1, 0, 1, 0, 1, 1, 1, 1, 1, 1,\n",
       "       1, 1, 1, 0, 1, 1, 1, 1, 1, 1, 0, 1, 1, 1, 1, 1, 1, 1, 1, 0, 0, 1,\n",
       "       1, 0, 0, 1, 0, 1, 1, 1, 1, 1, 1, 0, 1, 1, 1, 1, 0, 0, 1, 1, 1, 1,\n",
       "       1, 1, 1, 0, 1, 1, 0, 1, 1, 1, 0, 1, 1, 1, 1, 1, 1, 0, 1, 1, 0, 0,\n",
       "       0, 1, 1, 1, 1, 0, 1, 1, 1, 0, 1, 1, 1, 0, 1, 1, 1, 1, 1, 1, 1, 1,\n",
       "       0, 1, 1, 1, 1, 1, 0, 1, 0, 1, 1, 1, 0, 1, 1, 0, 1, 1, 0, 1, 1, 1,\n",
       "       1, 0, 1, 0, 1, 0, 1, 0, 0, 1, 1, 1, 0, 1, 1, 0, 1, 1, 1, 0, 0, 0,\n",
       "       0, 1])"
      ]
     },
     "execution_count": 42,
     "metadata": {},
     "output_type": "execute_result"
    }
   ],
   "source": [
    "y_pred"
   ]
  },
  {
   "cell_type": "code",
   "execution_count": 62,
   "id": "106a8c3e-b3cb-46cd-ac57-e392d83d4284",
   "metadata": {},
   "outputs": [
    {
     "data": {
      "text/plain": [
       "0.7420814479638009"
      ]
     },
     "execution_count": 62,
     "metadata": {},
     "output_type": "execute_result"
    }
   ],
   "source": [
    "score = final_svc_model.score(X_test, y_test)\n",
    "score"
   ]
  },
  {
   "cell_type": "code",
   "execution_count": 63,
   "id": "70b0788c-3e9c-4c69-8e17-322fa601fa9f",
   "metadata": {},
   "outputs": [
    {
     "data": {
      "text/plain": [
       "array([[ 97,  87],\n",
       "       [ 27, 231]])"
      ]
     },
     "execution_count": 63,
     "metadata": {},
     "output_type": "execute_result"
    }
   ],
   "source": [
    "confusion_matrix(y_test, y_pred)\n"
   ]
  },
  {
   "cell_type": "code",
   "execution_count": 81,
   "id": "c99c16b5-4ebf-4b98-ac3d-1e321fbadd44",
   "metadata": {},
   "outputs": [
    {
     "data": {
      "text/html": [
       "<div>\n",
       "<style scoped>\n",
       "    .dataframe tbody tr th:only-of-type {\n",
       "        vertical-align: middle;\n",
       "    }\n",
       "\n",
       "    .dataframe tbody tr th {\n",
       "        vertical-align: top;\n",
       "    }\n",
       "\n",
       "    .dataframe thead th {\n",
       "        text-align: right;\n",
       "    }\n",
       "</style>\n",
       "<table border=\"1\" class=\"dataframe\">\n",
       "  <thead>\n",
       "    <tr style=\"text-align: right;\">\n",
       "      <th></th>\n",
       "      <th>0</th>\n",
       "      <th>1</th>\n",
       "      <th>accuracy</th>\n",
       "      <th>macro avg</th>\n",
       "      <th>weighted avg</th>\n",
       "    </tr>\n",
       "  </thead>\n",
       "  <tbody>\n",
       "    <tr>\n",
       "      <th>precision</th>\n",
       "      <td>0.782258</td>\n",
       "      <td>0.726415</td>\n",
       "      <td>0.742081</td>\n",
       "      <td>0.754337</td>\n",
       "      <td>0.749662</td>\n",
       "    </tr>\n",
       "    <tr>\n",
       "      <th>recall</th>\n",
       "      <td>0.527174</td>\n",
       "      <td>0.895349</td>\n",
       "      <td>0.742081</td>\n",
       "      <td>0.711261</td>\n",
       "      <td>0.742081</td>\n",
       "    </tr>\n",
       "    <tr>\n",
       "      <th>f1-score</th>\n",
       "      <td>0.629870</td>\n",
       "      <td>0.802083</td>\n",
       "      <td>0.742081</td>\n",
       "      <td>0.715977</td>\n",
       "      <td>0.730393</td>\n",
       "    </tr>\n",
       "    <tr>\n",
       "      <th>support</th>\n",
       "      <td>184.000000</td>\n",
       "      <td>258.000000</td>\n",
       "      <td>0.742081</td>\n",
       "      <td>442.000000</td>\n",
       "      <td>442.000000</td>\n",
       "    </tr>\n",
       "  </tbody>\n",
       "</table>\n",
       "</div>"
      ],
      "text/plain": [
       "                    0           1  accuracy   macro avg  weighted avg\n",
       "precision    0.782258    0.726415  0.742081    0.754337      0.749662\n",
       "recall       0.527174    0.895349  0.742081    0.711261      0.742081\n",
       "f1-score     0.629870    0.802083  0.742081    0.715977      0.730393\n",
       "support    184.000000  258.000000  0.742081  442.000000    442.000000"
      ]
     },
     "execution_count": 81,
     "metadata": {},
     "output_type": "execute_result"
    }
   ],
   "source": [
    "cl_report = classification_report(y_test, y_pred, output_dict=True)\n",
    "pd.DataFrame(cl_report)"
   ]
  },
  {
   "cell_type": "code",
   "execution_count": 87,
   "id": "40090621-eddc-4ab0-a323-4cdbc6490a52",
   "metadata": {},
   "outputs": [],
   "source": [
    "def plot_roc_curve(\n",
    "    label=\"SVC: ROC Curve\",\n",
    "    marker_colour=\"r\",\n",
    "    marker_label=\"SVC default threshold\",\n",
    "):\n",
    "    fpr, tpr, thresholds = roc_curve(y_test, final_svc_model.predict_proba(X_test)[:, 1])\n",
    "    plt.plot(fpr, tpr, label=label)\n",
    "    plt.xlabel(\"FPR\")\n",
    "    plt.ylabel(\"TPR (recall)\")\n",
    "\n",
    "    default_threshold = np.argmin(np.abs(thresholds - 0.5))\n",
    "\n",
    "    plt.plot(\n",
    "        fpr[default_threshold],\n",
    "        tpr[default_threshold],\n",
    "        \"or\",\n",
    "        markersize=10,\n",
    "        label=\"threshold 0.5\",\n",
    "    )\n",
    "    plt.legend(loc=\"best\");\n"
   ]
  },
  {
   "cell_type": "code",
   "execution_count": 88,
   "id": "5d55f09f-79ac-40f1-82b0-5f0e0a5dcfe5",
   "metadata": {},
   "outputs": [
    {
     "data": {
      "image/png": "[encoded data removed]",
      "text/plain": [
       "<Figure size 432x288 with 1 Axes>"
      ]
     },
     "metadata": {
      "needs_background": "light"
     },
     "output_type": "display_data"
    }
   ],
   "source": [
    "roc_plot = plot_roc_curve()\n",
    "roc_plot"
   ]
  },
  {
   "cell_type": "code",
   "execution_count": 83,
   "id": "7551fe70-66d8-4513-bf2e-06f17b09aca0",
   "metadata": {},
   "outputs": [
    {
     "data": {
      "image/png": "[encoded data removed]",
      "text/plain": [
       "<Figure size 432x288 with 1 Axes>"
      ]
     },
     "metadata": {
      "needs_background": "light"
     },
     "output_type": "display_data"
    }
   ],
   "source": [
    "pr_curve = PrecisionRecallDisplay.from_estimator(final_svc_model, X_test, y_test);"
   ]
  },
  {
   "cell_type": "code",
   "execution_count": 89,
   "id": "9208cf00-2d52-4133-85ab-38d310f091d8",
   "metadata": {},
   "outputs": [
    {
     "ename": "NameError",
     "evalue": "name 'out_dir' is not defined",
     "output_type": "error",
     "traceback": [
      "\u001b[0;31m---------------------------------------------------------------------------\u001b[0m",
      "\u001b[0;31mNameError\u001b[0m                                 Traceback (most recent call last)",
      "\u001b[0;32m/var/folders/9y/pzvnqtl16zx6ry42n8nkvdq40000gn/T/ipykernel_61556/43593247.py\u001b[0m in \u001b[0;36m<module>\u001b[0;34m\u001b[0m\n\u001b[0;32m----> 1\u001b[0;31m \u001b[0mplt\u001b[0m\u001b[0;34m.\u001b[0m\u001b[0msavefig\u001b[0m\u001b[0;34m(\u001b[0m\u001b[0mout_dir\u001b[0m \u001b[0;34m+\u001b[0m\u001b[0;34m\"pr_curve.png\"\u001b[0m\u001b[0;34m)\u001b[0m\u001b[0;34m\u001b[0m\u001b[0;34m\u001b[0m\u001b[0m\n\u001b[0m",
      "\u001b[0;31mNameError\u001b[0m: name 'out_dir' is not defined"
     ]
    }
   ],
   "source": [
    "plt.savefig(\"pr_curve.png\")"
   ]
  },
  {
   "cell_type": "code",
   "execution_count": 71,
   "id": "274056eb-f628-43e1-98f3-8226d5d385ff",
   "metadata": {},
   "outputs": [
    {
     "data": {
      "text/plain": [
       "<Figure size 432x288 with 0 Axes>"
      ]
     },
     "metadata": {},
     "output_type": "display_data"
    }
   ],
   "source": [
    "plt.savefig(\"roc_curve.png\")"
   ]
  },
  {
   "cell_type": "code",
   "execution_count": null,
   "id": "3c63fa5e-4860-4101-85f7-0b32668ec07a",
   "metadata": {},
   "outputs": [],
   "source": []
  }
 ],
 "metadata": {
  "kernelspec": {
   "display_name": "Python [conda env:cmp]",
   "language": "python",
   "name": "conda-env-cmp-py"
  },
  "language_info": {
   "codemirror_mode": {
    "name": "ipython",
    "version": 3
   },
   "file_extension": ".py",
   "mimetype": "text/x-python",
   "name": "python",
   "nbconvert_exporter": "python",
   "pygments_lexer": "ipython3",
   "version": "3.9.7"
  }
 },
 "nbformat": 4,
 "nbformat_minor": 5
}
