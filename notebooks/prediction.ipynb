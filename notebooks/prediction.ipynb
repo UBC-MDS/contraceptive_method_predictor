{
 "cells": [
  {
   "cell_type": "code",
   "execution_count": 1,
   "id": "f9798b13-a9aa-47db-9e2b-ee753fc9255e",
   "metadata": {},
   "outputs": [],
   "source": [
    "import sys\n",
    "import time\n",
    "import os\n",
    "import string\n",
    "\n",
    "import matplotlib.pyplot as plt\n",
    "import numpy as np\n",
    "import pandas as pd\n",
    "from IPython.display import HTML\n",
    "import mglearn\n",
    "from IPython.display import display\n",
    "\n",
    "from sklearn.dummy import DummyClassifier, DummyRegressor\n",
    "\n",
    "from sklearn.pipeline import Pipeline, make_pipeline\n",
    "from sklearn.impute import SimpleImputer\n",
    "from sklearn.preprocessing import (\n",
    "    OneHotEncoder,\n",
    "    OrdinalEncoder,\n",
    "    PolynomialFeatures,\n",
    "    StandardScaler,\n",
    ")\n",
    "from sklearn.metrics import (\n",
    "    accuracy_score,\n",
    "    classification_report,\n",
    "    confusion_matrix,\n",
    "    f1_score,\n",
    "    make_scorer,\n",
    "    precision_score,\n",
    "    recall_score,\n",
    "    average_precision_score, \n",
    "    auc,\n",
    "    roc_curve,\n",
    "    precision_recall_curve\n",
    ")\n",
    "\n",
    "from sklearn.metrics import ConfusionMatrixDisplay\n",
    "from sklearn.neighbors import KNeighborsClassifier, KNeighborsRegressor\n",
    "from sklearn.tree import DecisionTreeClassifier\n",
    "from sklearn.compose import ColumnTransformer, make_column_transformer\n",
    "from sklearn.dummy import DummyClassifier, DummyRegressor\n",
    "from sklearn.ensemble import RandomForestClassifier, RandomForestRegressor\n",
    "from sklearn.feature_extraction.text import CountVectorizer\n",
    "from sklearn.feature_selection import RFE, RFECV\n",
    "from sklearn.impute import SimpleImputer\n",
    "from sklearn.linear_model import LogisticRegression, Ridge, RidgeCV\n",
    "from sklearn.metrics import PrecisionRecallDisplay\n",
    "from sklearn.model_selection import (\n",
    "    GridSearchCV,\n",
    "    RandomizedSearchCV,\n",
    "    ShuffleSplit,\n",
    "    cross_val_score,\n",
    "    cross_validate,\n",
    "    train_test_split,\n",
    ")\n",
    "from sklearn.inspection import permutation_importance\n",
    "import numpy as np\n",
    "import matplotlib.pyplot as plt\n",
    "%matplotlib inline\n",
    "from sklearn.metrics import RocCurveDisplay\n",
    "\n",
    "%matplotlib inline"
   ]
  },
  {
   "cell_type": "code",
   "execution_count": 2,
   "id": "466a83bc-82a6-42d4-a81f-f6c805c33a91",
   "metadata": {},
   "outputs": [
    {
     "data": {
      "text/html": [
       "<div>\n",
       "<style scoped>\n",
       "    .dataframe tbody tr th:only-of-type {\n",
       "        vertical-align: middle;\n",
       "    }\n",
       "\n",
       "    .dataframe tbody tr th {\n",
       "        vertical-align: top;\n",
       "    }\n",
       "\n",
       "    .dataframe thead th {\n",
       "        text-align: right;\n",
       "    }\n",
       "</style>\n",
       "<table border=\"1\" class=\"dataframe\">\n",
       "  <thead>\n",
       "    <tr style=\"text-align: right;\">\n",
       "      <th></th>\n",
       "      <th>Wife_age</th>\n",
       "      <th>Wife_education</th>\n",
       "      <th>Husband_education</th>\n",
       "      <th>Number_of_children_ever_born</th>\n",
       "      <th>Wife_religion</th>\n",
       "      <th>Wife_now_working?</th>\n",
       "      <th>Husband_occupation</th>\n",
       "      <th>Standard_of_living_index</th>\n",
       "      <th>Media_exposure</th>\n",
       "      <th>Contraceptive_method_used</th>\n",
       "    </tr>\n",
       "  </thead>\n",
       "  <tbody>\n",
       "    <tr>\n",
       "      <th>834</th>\n",
       "      <td>41</td>\n",
       "      <td>1</td>\n",
       "      <td>4</td>\n",
       "      <td>9</td>\n",
       "      <td>1</td>\n",
       "      <td>1</td>\n",
       "      <td>2</td>\n",
       "      <td>1</td>\n",
       "      <td>0</td>\n",
       "      <td>3</td>\n",
       "    </tr>\n",
       "    <tr>\n",
       "      <th>491</th>\n",
       "      <td>40</td>\n",
       "      <td>4</td>\n",
       "      <td>4</td>\n",
       "      <td>6</td>\n",
       "      <td>0</td>\n",
       "      <td>0</td>\n",
       "      <td>1</td>\n",
       "      <td>4</td>\n",
       "      <td>0</td>\n",
       "      <td>2</td>\n",
       "    </tr>\n",
       "    <tr>\n",
       "      <th>376</th>\n",
       "      <td>40</td>\n",
       "      <td>3</td>\n",
       "      <td>3</td>\n",
       "      <td>3</td>\n",
       "      <td>1</td>\n",
       "      <td>1</td>\n",
       "      <td>2</td>\n",
       "      <td>2</td>\n",
       "      <td>1</td>\n",
       "      <td>1</td>\n",
       "    </tr>\n",
       "    <tr>\n",
       "      <th>250</th>\n",
       "      <td>34</td>\n",
       "      <td>4</td>\n",
       "      <td>4</td>\n",
       "      <td>3</td>\n",
       "      <td>0</td>\n",
       "      <td>1</td>\n",
       "      <td>1</td>\n",
       "      <td>2</td>\n",
       "      <td>0</td>\n",
       "      <td>1</td>\n",
       "    </tr>\n",
       "    <tr>\n",
       "      <th>228</th>\n",
       "      <td>47</td>\n",
       "      <td>1</td>\n",
       "      <td>4</td>\n",
       "      <td>8</td>\n",
       "      <td>1</td>\n",
       "      <td>1</td>\n",
       "      <td>3</td>\n",
       "      <td>3</td>\n",
       "      <td>0</td>\n",
       "      <td>1</td>\n",
       "    </tr>\n",
       "    <tr>\n",
       "      <th>...</th>\n",
       "      <td>...</td>\n",
       "      <td>...</td>\n",
       "      <td>...</td>\n",
       "      <td>...</td>\n",
       "      <td>...</td>\n",
       "      <td>...</td>\n",
       "      <td>...</td>\n",
       "      <td>...</td>\n",
       "      <td>...</td>\n",
       "      <td>...</td>\n",
       "    </tr>\n",
       "    <tr>\n",
       "      <th>1041</th>\n",
       "      <td>24</td>\n",
       "      <td>3</td>\n",
       "      <td>3</td>\n",
       "      <td>2</td>\n",
       "      <td>1</td>\n",
       "      <td>0</td>\n",
       "      <td>3</td>\n",
       "      <td>2</td>\n",
       "      <td>0</td>\n",
       "      <td>1</td>\n",
       "    </tr>\n",
       "    <tr>\n",
       "      <th>1122</th>\n",
       "      <td>30</td>\n",
       "      <td>3</td>\n",
       "      <td>4</td>\n",
       "      <td>4</td>\n",
       "      <td>0</td>\n",
       "      <td>1</td>\n",
       "      <td>2</td>\n",
       "      <td>3</td>\n",
       "      <td>0</td>\n",
       "      <td>1</td>\n",
       "    </tr>\n",
       "    <tr>\n",
       "      <th>1346</th>\n",
       "      <td>35</td>\n",
       "      <td>2</td>\n",
       "      <td>3</td>\n",
       "      <td>6</td>\n",
       "      <td>1</td>\n",
       "      <td>1</td>\n",
       "      <td>2</td>\n",
       "      <td>3</td>\n",
       "      <td>0</td>\n",
       "      <td>3</td>\n",
       "    </tr>\n",
       "    <tr>\n",
       "      <th>1406</th>\n",
       "      <td>36</td>\n",
       "      <td>1</td>\n",
       "      <td>1</td>\n",
       "      <td>5</td>\n",
       "      <td>1</td>\n",
       "      <td>1</td>\n",
       "      <td>3</td>\n",
       "      <td>3</td>\n",
       "      <td>0</td>\n",
       "      <td>3</td>\n",
       "    </tr>\n",
       "    <tr>\n",
       "      <th>1389</th>\n",
       "      <td>38</td>\n",
       "      <td>4</td>\n",
       "      <td>4</td>\n",
       "      <td>4</td>\n",
       "      <td>1</td>\n",
       "      <td>0</td>\n",
       "      <td>1</td>\n",
       "      <td>4</td>\n",
       "      <td>0</td>\n",
       "      <td>3</td>\n",
       "    </tr>\n",
       "  </tbody>\n",
       "</table>\n",
       "<p>1031 rows × 10 columns</p>\n",
       "</div>"
      ],
      "text/plain": [
       "      Wife_age  Wife_education  Husband_education  \\\n",
       "834         41               1                  4   \n",
       "491         40               4                  4   \n",
       "376         40               3                  3   \n",
       "250         34               4                  4   \n",
       "228         47               1                  4   \n",
       "...        ...             ...                ...   \n",
       "1041        24               3                  3   \n",
       "1122        30               3                  4   \n",
       "1346        35               2                  3   \n",
       "1406        36               1                  1   \n",
       "1389        38               4                  4   \n",
       "\n",
       "      Number_of_children_ever_born  Wife_religion  Wife_now_working?  \\\n",
       "834                              9              1                  1   \n",
       "491                              6              0                  0   \n",
       "376                              3              1                  1   \n",
       "250                              3              0                  1   \n",
       "228                              8              1                  1   \n",
       "...                            ...            ...                ...   \n",
       "1041                             2              1                  0   \n",
       "1122                             4              0                  1   \n",
       "1346                             6              1                  1   \n",
       "1406                             5              1                  1   \n",
       "1389                             4              1                  0   \n",
       "\n",
       "      Husband_occupation  Standard_of_living_index  Media_exposure  \\\n",
       "834                    2                         1               0   \n",
       "491                    1                         4               0   \n",
       "376                    2                         2               1   \n",
       "250                    1                         2               0   \n",
       "228                    3                         3               0   \n",
       "...                  ...                       ...             ...   \n",
       "1041                   3                         2               0   \n",
       "1122                   2                         3               0   \n",
       "1346                   2                         3               0   \n",
       "1406                   3                         3               0   \n",
       "1389                   1                         4               0   \n",
       "\n",
       "      Contraceptive_method_used  \n",
       "834                           3  \n",
       "491                           2  \n",
       "376                           1  \n",
       "250                           1  \n",
       "228                           1  \n",
       "...                         ...  \n",
       "1041                          1  \n",
       "1122                          1  \n",
       "1346                          3  \n",
       "1406                          3  \n",
       "1389                          3  \n",
       "\n",
       "[1031 rows x 10 columns]"
      ]
     },
     "execution_count": 2,
     "metadata": {},
     "output_type": "execute_result"
    }
   ],
   "source": [
    "df = pd.read_csv(\n",
    "    \"../data/raw/contraceptive.csv\",\n",
    "    header=0,\n",
    "    names=[\n",
    "        \"Wife age\",\n",
    "        \"Wife education\",\n",
    "        \"Husband education\",\n",
    "        \"Number of children ever born\",\n",
    "        \"Wife religion\",\n",
    "        \"Wife now working?\",\n",
    "        \"Husband occupation\",\n",
    "        \"Standard_of_living index\",\n",
    "        \"Media exposure\",\n",
    "        \"Contraceptive method used\",\n",
    "    ],\n",
    ")\n",
    "\n",
    "# Split the data into 70:30\n",
    "df = df.rename(columns=lambda x: x.replace(\" \", \"_\"))\n",
    "df= df.rename(columns=lambda x: x.replace(\"'s\", \"\"))\n",
    "train_df, test_df = train_test_split(df, test_size=0.3, random_state=123)\n",
    "train_df.head()\n",
    "\n",
    "train_df"
   ]
  },
  {
   "cell_type": "code",
   "execution_count": 3,
   "id": "58d65764-6da9-44ca-ba34-d32e059a9c7e",
   "metadata": {},
   "outputs": [],
   "source": [
    "X_train, y_train = train_df.drop(columns=[\"Contraceptive_method_used\"]), train_df[\"Contraceptive_method_used\"]\n",
    "X_test, y_test = test_df.drop(columns=[\"Contraceptive_method_used\"]), test_df[\"Contraceptive_method_used\"]"
   ]
  },
  {
   "cell_type": "code",
   "execution_count": 4,
   "id": "ee054a47-d018-42ad-89d6-30421f023f10",
   "metadata": {},
   "outputs": [],
   "source": [
    "#Converting it to a binary model(test set)\n",
    "y_train = y_train.replace(1,0)\n",
    "y_train = y_train.replace([2,3],1)\n",
    "y_test = y_test.replace(1,0)\n",
    "y_test = y_test.replace([2,3],1)\n"
   ]
  },
  {
   "cell_type": "code",
   "execution_count": 5,
   "id": "37afbf53-62bd-4617-9b64-06d5af6bdc6f",
   "metadata": {},
   "outputs": [],
   "source": [
    "import pickle\n",
    "\n",
    "final_svc_model = pickle.load(open(\"/Users/valliakella/Documents/UBC/522Project/contraceptive_method_predictor/results/models/final_svc.pkl\", \"rb\"))"
   ]
  },
  {
   "cell_type": "code",
   "execution_count": 6,
   "id": "c14bd916-c959-49a9-b52b-9664b3a38fab",
   "metadata": {},
   "outputs": [
    {
     "data": {
      "text/plain": [
       "Pipeline(steps=[('columntransformer',\n",
       "                 ColumnTransformer(transformers=[('pipeline',\n",
       "                                                  Pipeline(steps=[('simpleimputer',\n",
       "                                                                   SimpleImputer()),\n",
       "                                                                  ('standardscaler',\n",
       "                                                                   StandardScaler())]),\n",
       "                                                  ['Wife_age',\n",
       "                                                   'Number_of_children_ever_born']),\n",
       "                                                 ('ordinalencoder',\n",
       "                                                  OrdinalEncoder(),\n",
       "                                                  ['Wife_education',\n",
       "                                                   'Husband_education',\n",
       "                                                   'Husband_occupation',\n",
       "                                                   'Standard_of_living_index']),\n",
       "                                                 ('passthrough', 'passthrough',\n",
       "                                                  ['Wife_religion',\n",
       "                                                   'Wife_now_working?',\n",
       "                                                   'Media_exposure'])])),\n",
       "                ('svc',\n",
       "                 SVC(C=10.0, gamma=0.01, probability=True, random_state=123))])"
      ]
     },
     "execution_count": 6,
     "metadata": {},
     "output_type": "execute_result"
    }
   ],
   "source": [
    "final_svc_model"
   ]
  },
  {
   "cell_type": "code",
   "execution_count": 7,
   "id": "ac8097f5-5b9c-4392-a965-d38ab13364c1",
   "metadata": {},
   "outputs": [],
   "source": [
    "import pickle\n",
    "final_params = pickle.load(open(\"/Users/valliakella/Documents/UBC/522Project/contraceptive_method_predictor/results/models/final_params.pkl\", \"rb\"))\n",
    "                           "
   ]
  },
  {
   "cell_type": "code",
   "execution_count": 8,
   "id": "039cae49-3502-42f9-8d64-a3bd0edfae46",
   "metadata": {},
   "outputs": [
    {
     "data": {
      "text/plain": [
       "{'svc__gamma': 0.01, 'svc__class_weight': None, 'svc__C': 10.0}"
      ]
     },
     "execution_count": 8,
     "metadata": {},
     "output_type": "execute_result"
    }
   ],
   "source": [
    "final_params"
   ]
  },
  {
   "cell_type": "code",
   "execution_count": 9,
   "id": "79f4e85a-e700-4ad0-b980-de6ae756d422",
   "metadata": {},
   "outputs": [],
   "source": [
    "y_pred = final_svc_model.predict(X_test)"
   ]
  },
  {
   "cell_type": "code",
   "execution_count": 10,
   "id": "feb18829-202b-4c41-86ad-3f622b0c68f6",
   "metadata": {},
   "outputs": [
    {
     "data": {
      "text/plain": [
       "array([0, 0, 1, 1, 0, 0, 1, 0, 1, 1, 1, 0, 1, 1, 0, 0, 1, 0, 1, 1, 1, 0,\n",
       "       0, 1, 1, 1, 1, 0, 1, 1, 0, 0, 1, 0, 1, 1, 1, 0, 1, 1, 1, 1, 1, 0,\n",
       "       1, 1, 1, 1, 1, 0, 1, 1, 1, 1, 1, 1, 1, 0, 0, 0, 1, 0, 0, 1, 1, 0,\n",
       "       1, 0, 0, 1, 1, 0, 1, 1, 1, 1, 1, 1, 1, 0, 0, 1, 1, 1, 0, 0, 0, 1,\n",
       "       0, 1, 1, 0, 1, 1, 1, 1, 1, 0, 1, 1, 0, 1, 1, 1, 1, 1, 1, 1, 1, 1,\n",
       "       1, 1, 1, 1, 1, 1, 0, 1, 1, 1, 1, 1, 1, 1, 1, 1, 1, 1, 1, 0, 1, 0,\n",
       "       1, 0, 1, 0, 1, 0, 0, 1, 1, 1, 1, 1, 1, 1, 0, 0, 1, 1, 1, 0, 1, 1,\n",
       "       1, 1, 1, 0, 0, 1, 1, 1, 1, 1, 1, 1, 0, 1, 1, 1, 1, 0, 1, 1, 1, 1,\n",
       "       1, 1, 1, 1, 1, 1, 0, 1, 1, 1, 1, 0, 1, 1, 0, 0, 0, 1, 1, 1, 1, 0,\n",
       "       1, 1, 1, 1, 1, 0, 1, 1, 0, 1, 0, 1, 0, 1, 1, 1, 1, 1, 1, 0, 1, 1,\n",
       "       1, 1, 1, 1, 1, 0, 1, 0, 1, 1, 1, 1, 0, 1, 0, 1, 0, 1, 1, 1, 0, 1,\n",
       "       1, 0, 1, 1, 0, 0, 1, 0, 1, 1, 1, 1, 1, 1, 1, 0, 0, 0, 1, 0, 1, 0,\n",
       "       1, 1, 0, 1, 0, 1, 1, 1, 1, 1, 1, 0, 0, 1, 0, 1, 1, 0, 1, 1, 1, 1,\n",
       "       1, 1, 1, 1, 1, 0, 0, 1, 0, 1, 1, 1, 1, 0, 1, 0, 1, 1, 1, 1, 1, 1,\n",
       "       1, 1, 1, 0, 1, 1, 1, 1, 1, 1, 0, 1, 1, 1, 1, 1, 1, 1, 1, 0, 0, 1,\n",
       "       1, 0, 0, 1, 0, 1, 1, 1, 1, 1, 1, 0, 1, 1, 1, 1, 0, 0, 1, 1, 1, 1,\n",
       "       1, 1, 1, 0, 1, 1, 0, 1, 1, 1, 0, 1, 1, 1, 1, 1, 1, 0, 1, 1, 0, 0,\n",
       "       0, 1, 1, 1, 1, 0, 1, 1, 1, 0, 1, 1, 1, 0, 1, 1, 1, 1, 1, 1, 1, 1,\n",
       "       0, 1, 1, 1, 1, 1, 0, 1, 0, 1, 1, 1, 0, 1, 1, 0, 1, 1, 0, 1, 1, 1,\n",
       "       1, 0, 1, 0, 1, 0, 1, 0, 0, 1, 1, 1, 0, 1, 1, 0, 1, 1, 1, 0, 0, 0,\n",
       "       0, 1])"
      ]
     },
     "execution_count": 10,
     "metadata": {},
     "output_type": "execute_result"
    }
   ],
   "source": [
    "y_pred"
   ]
  },
  {
   "cell_type": "code",
   "execution_count": 11,
   "id": "106a8c3e-b3cb-46cd-ac57-e392d83d4284",
   "metadata": {},
   "outputs": [
    {
     "data": {
      "text/plain": [
       "0.7420814479638009"
      ]
     },
     "execution_count": 11,
     "metadata": {},
     "output_type": "execute_result"
    }
   ],
   "source": [
    "score = final_svc_model.score(X_test, y_test)\n",
    "score"
   ]
  },
  {
   "cell_type": "code",
   "execution_count": 12,
   "id": "70b0788c-3e9c-4c69-8e17-322fa601fa9f",
   "metadata": {},
   "outputs": [
    {
     "data": {
      "image/png": "[encoded data removed]",
      "text/plain": [
       "<Figure size 432x288 with 2 Axes>"
      ]
     },
     "metadata": {
      "needs_background": "light"
     },
     "output_type": "display_data"
    }
   ],
   "source": [
    "final_svc_model.fit(X_train, y_train)\n",
    "cm = ConfusionMatrixDisplay.from_estimator(\n",
    "    final_svc_model, X_test, y_test, values_format=\"d\", display_labels=[\"contra_no\", \"contra_yes\"]\n",
    ")"
   ]
  },
  {
   "cell_type": "code",
   "execution_count": 13,
   "id": "c99c16b5-4ebf-4b98-ac3d-1e321fbadd44",
   "metadata": {},
   "outputs": [
    {
     "name": "stdout",
     "output_type": "stream",
     "text": [
      "              precision    recall  f1-score   support\n",
      "\n",
      "   contra_no       0.78      0.53      0.63       184\n",
      "  contra_yes       0.73      0.90      0.80       258\n",
      "\n",
      "    accuracy                           0.74       442\n",
      "   macro avg       0.75      0.71      0.72       442\n",
      "weighted avg       0.75      0.74      0.73       442\n",
      "\n"
     ]
    }
   ],
   "source": [
    "print(classification_report(y_test, y_pred, target_names=[\"contra_no\", \"contra_yes\"]))\n"
   ]
  },
  {
   "cell_type": "code",
   "execution_count": null,
   "id": "84ee6e25-e0d5-4a11-a349-dc877470c87c",
   "metadata": {},
   "outputs": [],
   "source": []
  },
  {
   "cell_type": "code",
   "execution_count": 14,
   "id": "40090621-eddc-4ab0-a323-4cdbc6490a52",
   "metadata": {},
   "outputs": [
    {
     "data": {
      "image/png": "[encoded data removed]",
      "text/plain": [
       "<Figure size 432x288 with 1 Axes>"
      ]
     },
     "metadata": {
      "needs_background": "light"
     },
     "output_type": "display_data"
    }
   ],
   "source": [
    "roc_plot= RocCurveDisplay.from_estimator(final_svc_model, X_train, y_train)\n",
    "plt.show()\n"
   ]
  },
  {
   "cell_type": "code",
   "execution_count": null,
   "id": "5d55f09f-79ac-40f1-82b0-5f0e0a5dcfe5",
   "metadata": {},
   "outputs": [],
   "source": []
  },
  {
   "cell_type": "code",
   "execution_count": 15,
   "id": "7551fe70-66d8-4513-bf2e-06f17b09aca0",
   "metadata": {},
   "outputs": [
    {
     "data": {
      "image/png": "[encoded data removed]",
      "text/plain": [
       "<Figure size 432x288 with 1 Axes>"
      ]
     },
     "metadata": {
      "needs_background": "light"
     },
     "output_type": "display_data"
    }
   ],
   "source": [
    "pr_curve = PrecisionRecallDisplay.from_estimator(final_svc_model, X_train, y_train);"
   ]
  },
  {
   "cell_type": "code",
   "execution_count": null,
   "id": "9208cf00-2d52-4133-85ab-38d310f091d8",
   "metadata": {},
   "outputs": [],
   "source": []
  },
  {
   "cell_type": "code",
   "execution_count": 17,
   "id": "274056eb-f628-43e1-98f3-8226d5d385ff",
   "metadata": {},
   "outputs": [],
   "source": [
    "# Fetaure Importance\n"
   ]
  },
  {
   "cell_type": "code",
   "execution_count": 18,
   "id": "081fdb34-12e9-4dcb-bfb8-a19bb0bc80ae",
   "metadata": {},
   "outputs": [
    {
     "data": {
      "text/plain": [
       "{'columntransformer': ColumnTransformer(transformers=[('pipeline',\n",
       "                                  Pipeline(steps=[('simpleimputer',\n",
       "                                                   SimpleImputer()),\n",
       "                                                  ('standardscaler',\n",
       "                                                   StandardScaler())]),\n",
       "                                  ['Wife_age', 'Number_of_children_ever_born']),\n",
       "                                 ('ordinalencoder', OrdinalEncoder(),\n",
       "                                  ['Wife_education', 'Husband_education',\n",
       "                                   'Husband_occupation',\n",
       "                                   'Standard_of_living_index']),\n",
       "                                 ('passthrough', 'passthrough',\n",
       "                                  ['Wife_religion', 'Wife_now_working?',\n",
       "                                   'Media_exposure'])]),\n",
       " 'svc': SVC(C=10.0, gamma=0.01, probability=True, random_state=123)}"
      ]
     },
     "execution_count": 18,
     "metadata": {},
     "output_type": "execute_result"
    }
   ],
   "source": [
    "final_svc_model.named_steps"
   ]
  },
  {
   "cell_type": "code",
   "execution_count": 19,
   "id": "497c2f6c-cb92-44d4-902d-e99688ad236d",
   "metadata": {},
   "outputs": [
    {
     "data": {
      "text/plain": [
       "array([[0.80832236, 0.19167764],\n",
       "       [0.1130333 , 0.8869667 ],\n",
       "       [0.66549754, 0.33450246],\n",
       "       ...,\n",
       "       [0.28329397, 0.71670603],\n",
       "       [0.58013213, 0.41986787],\n",
       "       [0.20753229, 0.79246771]])"
      ]
     },
     "execution_count": 19,
     "metadata": {},
     "output_type": "execute_result"
    }
   ],
   "source": [
    "final_svc_model.predict_proba(X_train)"
   ]
  },
  {
   "cell_type": "code",
   "execution_count": 20,
   "id": "710fc8a8-8e4d-40d8-8b9c-3a15eda81347",
   "metadata": {},
   "outputs": [
    {
     "data": {
      "text/html": [
       "<div>\n",
       "<style scoped>\n",
       "    .dataframe tbody tr th:only-of-type {\n",
       "        vertical-align: middle;\n",
       "    }\n",
       "\n",
       "    .dataframe tbody tr th {\n",
       "        vertical-align: top;\n",
       "    }\n",
       "\n",
       "    .dataframe thead th {\n",
       "        text-align: right;\n",
       "    }\n",
       "</style>\n",
       "<table border=\"1\" class=\"dataframe\">\n",
       "  <thead>\n",
       "    <tr style=\"text-align: right;\">\n",
       "      <th></th>\n",
       "      <th>Wife_age</th>\n",
       "      <th>Wife_education</th>\n",
       "      <th>Husband_education</th>\n",
       "      <th>Number_of_children_ever_born</th>\n",
       "      <th>Wife_religion</th>\n",
       "      <th>Wife_now_working?</th>\n",
       "      <th>Husband_occupation</th>\n",
       "      <th>Standard_of_living_index</th>\n",
       "      <th>Media_exposure</th>\n",
       "    </tr>\n",
       "  </thead>\n",
       "  <tbody>\n",
       "    <tr>\n",
       "      <th>834</th>\n",
       "      <td>41</td>\n",
       "      <td>1</td>\n",
       "      <td>4</td>\n",
       "      <td>9</td>\n",
       "      <td>1</td>\n",
       "      <td>1</td>\n",
       "      <td>2</td>\n",
       "      <td>1</td>\n",
       "      <td>0</td>\n",
       "    </tr>\n",
       "    <tr>\n",
       "      <th>491</th>\n",
       "      <td>40</td>\n",
       "      <td>4</td>\n",
       "      <td>4</td>\n",
       "      <td>6</td>\n",
       "      <td>0</td>\n",
       "      <td>0</td>\n",
       "      <td>1</td>\n",
       "      <td>4</td>\n",
       "      <td>0</td>\n",
       "    </tr>\n",
       "    <tr>\n",
       "      <th>376</th>\n",
       "      <td>40</td>\n",
       "      <td>3</td>\n",
       "      <td>3</td>\n",
       "      <td>3</td>\n",
       "      <td>1</td>\n",
       "      <td>1</td>\n",
       "      <td>2</td>\n",
       "      <td>2</td>\n",
       "      <td>1</td>\n",
       "    </tr>\n",
       "    <tr>\n",
       "      <th>250</th>\n",
       "      <td>34</td>\n",
       "      <td>4</td>\n",
       "      <td>4</td>\n",
       "      <td>3</td>\n",
       "      <td>0</td>\n",
       "      <td>1</td>\n",
       "      <td>1</td>\n",
       "      <td>2</td>\n",
       "      <td>0</td>\n",
       "    </tr>\n",
       "    <tr>\n",
       "      <th>228</th>\n",
       "      <td>47</td>\n",
       "      <td>1</td>\n",
       "      <td>4</td>\n",
       "      <td>8</td>\n",
       "      <td>1</td>\n",
       "      <td>1</td>\n",
       "      <td>3</td>\n",
       "      <td>3</td>\n",
       "      <td>0</td>\n",
       "    </tr>\n",
       "    <tr>\n",
       "      <th>...</th>\n",
       "      <td>...</td>\n",
       "      <td>...</td>\n",
       "      <td>...</td>\n",
       "      <td>...</td>\n",
       "      <td>...</td>\n",
       "      <td>...</td>\n",
       "      <td>...</td>\n",
       "      <td>...</td>\n",
       "      <td>...</td>\n",
       "    </tr>\n",
       "    <tr>\n",
       "      <th>1041</th>\n",
       "      <td>24</td>\n",
       "      <td>3</td>\n",
       "      <td>3</td>\n",
       "      <td>2</td>\n",
       "      <td>1</td>\n",
       "      <td>0</td>\n",
       "      <td>3</td>\n",
       "      <td>2</td>\n",
       "      <td>0</td>\n",
       "    </tr>\n",
       "    <tr>\n",
       "      <th>1122</th>\n",
       "      <td>30</td>\n",
       "      <td>3</td>\n",
       "      <td>4</td>\n",
       "      <td>4</td>\n",
       "      <td>0</td>\n",
       "      <td>1</td>\n",
       "      <td>2</td>\n",
       "      <td>3</td>\n",
       "      <td>0</td>\n",
       "    </tr>\n",
       "    <tr>\n",
       "      <th>1346</th>\n",
       "      <td>35</td>\n",
       "      <td>2</td>\n",
       "      <td>3</td>\n",
       "      <td>6</td>\n",
       "      <td>1</td>\n",
       "      <td>1</td>\n",
       "      <td>2</td>\n",
       "      <td>3</td>\n",
       "      <td>0</td>\n",
       "    </tr>\n",
       "    <tr>\n",
       "      <th>1406</th>\n",
       "      <td>36</td>\n",
       "      <td>1</td>\n",
       "      <td>1</td>\n",
       "      <td>5</td>\n",
       "      <td>1</td>\n",
       "      <td>1</td>\n",
       "      <td>3</td>\n",
       "      <td>3</td>\n",
       "      <td>0</td>\n",
       "    </tr>\n",
       "    <tr>\n",
       "      <th>1389</th>\n",
       "      <td>38</td>\n",
       "      <td>4</td>\n",
       "      <td>4</td>\n",
       "      <td>4</td>\n",
       "      <td>1</td>\n",
       "      <td>0</td>\n",
       "      <td>1</td>\n",
       "      <td>4</td>\n",
       "      <td>0</td>\n",
       "    </tr>\n",
       "  </tbody>\n",
       "</table>\n",
       "<p>1031 rows × 9 columns</p>\n",
       "</div>"
      ],
      "text/plain": [
       "      Wife_age  Wife_education  Husband_education  \\\n",
       "834         41               1                  4   \n",
       "491         40               4                  4   \n",
       "376         40               3                  3   \n",
       "250         34               4                  4   \n",
       "228         47               1                  4   \n",
       "...        ...             ...                ...   \n",
       "1041        24               3                  3   \n",
       "1122        30               3                  4   \n",
       "1346        35               2                  3   \n",
       "1406        36               1                  1   \n",
       "1389        38               4                  4   \n",
       "\n",
       "      Number_of_children_ever_born  Wife_religion  Wife_now_working?  \\\n",
       "834                              9              1                  1   \n",
       "491                              6              0                  0   \n",
       "376                              3              1                  1   \n",
       "250                              3              0                  1   \n",
       "228                              8              1                  1   \n",
       "...                            ...            ...                ...   \n",
       "1041                             2              1                  0   \n",
       "1122                             4              0                  1   \n",
       "1346                             6              1                  1   \n",
       "1406                             5              1                  1   \n",
       "1389                             4              1                  0   \n",
       "\n",
       "      Husband_occupation  Standard_of_living_index  Media_exposure  \n",
       "834                    2                         1               0  \n",
       "491                    1                         4               0  \n",
       "376                    2                         2               1  \n",
       "250                    1                         2               0  \n",
       "228                    3                         3               0  \n",
       "...                  ...                       ...             ...  \n",
       "1041                   3                         2               0  \n",
       "1122                   2                         3               0  \n",
       "1346                   2                         3               0  \n",
       "1406                   3                         3               0  \n",
       "1389                   1                         4               0  \n",
       "\n",
       "[1031 rows x 9 columns]"
      ]
     },
     "execution_count": 20,
     "metadata": {},
     "output_type": "execute_result"
    }
   ],
   "source": [
    "X_train"
   ]
  },
  {
   "cell_type": "code",
   "execution_count": 21,
   "id": "fac47312-fdcb-4737-b88c-9d6f04fd14ce",
   "metadata": {},
   "outputs": [
    {
     "data": {
      "text/plain": [
       "Pipeline(steps=[('columntransformer',\n",
       "                 ColumnTransformer(transformers=[('pipeline',\n",
       "                                                  Pipeline(steps=[('simpleimputer',\n",
       "                                                                   SimpleImputer()),\n",
       "                                                                  ('standardscaler',\n",
       "                                                                   StandardScaler())]),\n",
       "                                                  ['Wife_age',\n",
       "                                                   'Number_of_children_ever_born']),\n",
       "                                                 ('ordinalencoder',\n",
       "                                                  OrdinalEncoder(),\n",
       "                                                  ['Wife_education',\n",
       "                                                   'Husband_education',\n",
       "                                                   'Husband_occupation',\n",
       "                                                   'Standard_of_living_index']),\n",
       "                                                 ('passthrough', 'passthrough',\n",
       "                                                  ['Wife_religion',\n",
       "                                                   'Wife_now_working?',\n",
       "                                                   'Media_exposure'])])),\n",
       "                ('svc',\n",
       "                 SVC(C=10.0, gamma=0.01, probability=True, random_state=123))])"
      ]
     },
     "execution_count": 21,
     "metadata": {},
     "output_type": "execute_result"
    }
   ],
   "source": [
    "final_svc_model.fit(X_train, y_train)"
   ]
  },
  {
   "cell_type": "code",
   "execution_count": null,
   "id": "d96e0160-c549-4193-9919-e35a877efb41",
   "metadata": {},
   "outputs": [],
   "source": [
    "\n",
    "#svc =  SVC(kernel='rbf', C=2)\n",
    "final_svc_model.fit(X_train, y_train)\n",
    "\n",
    "perm_importance = permutation_importance(final_svc_model, X_test, y_test)\n",
    "\n",
    "feature_names = X_train.columns\n",
    "features = np.array(feature_names)\n",
    "\n",
    "sorted_idx = perm_importance.importances_mean.argsort()\n",
    "plt.barh(features[sorted_idx], perm_importance.importances_mean[sorted_idx])\n",
    "plt.xlabel(\"Permutation Importance\")\n"
   ]
  },
  {
   "cell_type": "code",
   "execution_count": 36,
   "id": "4f2d25ae-2320-4930-9292-d0ca73881004",
   "metadata": {},
   "outputs": [
    {
     "data": {
      "text/plain": [
       "Text(0.5, 0, 'Permutation Importance')"
      ]
     },
     "execution_count": 36,
     "metadata": {},
     "output_type": "execute_result"
    },
    {
     "data": {
      "image/png": "[encoded data removed]",
      "text/plain": [
       "<Figure size 432x288 with 1 Axes>"
      ]
     },
     "metadata": {
      "needs_background": "light"
     },
     "output_type": "display_data"
    }
   ],
   "source": [
    "perm_importance = permutation_importance(final_svc_model, X_test, y_test)\n",
    "feature_names = X_train.columns\n",
    "features = np.array(feature_names)\n",
    "sorted_idx = perm_importance.importances_mean.argsort()\n",
    "plt.barh(features[sorted_idx], perm_importance.importances_mean[sorted_idx])\n",
    "plt.xlabel(\"Permutation Importance\")"
   ]
  },
  {
   "cell_type": "code",
   "execution_count": null,
   "id": "063b04f3-6057-40a3-9f02-b07cd67b7280",
   "metadata": {},
   "outputs": [],
   "source": []
  },
  {
   "cell_type": "code",
   "execution_count": null,
   "id": "c5a635ae-7f0b-42b3-955b-5b52ac5fddad",
   "metadata": {},
   "outputs": [],
   "source": []
  },
  {
   "cell_type": "code",
   "execution_count": null,
   "id": "f2595f6e-9d02-4c32-90f1-94adaf43f338",
   "metadata": {},
   "outputs": [],
   "source": []
  },
  {
   "cell_type": "code",
   "execution_count": null,
   "id": "313b5cbb-6f54-4a3b-bd8c-15507da820b9",
   "metadata": {},
   "outputs": [],
   "source": []
  },
  {
   "cell_type": "code",
   "execution_count": null,
   "id": "78207457-d4e5-4205-bf2f-2817029f4d5e",
   "metadata": {},
   "outputs": [],
   "source": [
    "\n"
   ]
  },
  {
   "cell_type": "code",
   "execution_count": null,
   "id": "40adea1c-bd5f-4db4-9c21-ed7b078e1b9f",
   "metadata": {},
   "outputs": [],
   "source": [
    "\n"
   ]
  },
  {
   "cell_type": "code",
   "execution_count": null,
   "id": "1e2a9db8-e5d7-4b38-8e79-0e8603cba43e",
   "metadata": {},
   "outputs": [],
   "source": []
  },
  {
   "cell_type": "code",
   "execution_count": null,
   "id": "b0947353-bfe7-4310-845e-5efe3b4a1a34",
   "metadata": {},
   "outputs": [],
   "source": []
  },
  {
   "cell_type": "code",
   "execution_count": null,
   "id": "405656f0-b117-46ac-9b39-ee0b18c89129",
   "metadata": {
    "tags": []
   },
   "outputs": [],
   "source": []
  },
  {
   "cell_type": "code",
   "execution_count": 32,
   "id": "5496e3fa-729c-4b8b-a30f-aea010780b9d",
   "metadata": {
    "tags": []
   },
   "outputs": [],
   "source": []
  },
  {
   "cell_type": "code",
   "execution_count": null,
   "id": "8e3e04f6-2755-4b1d-b751-b5d8fa5b0ca9",
   "metadata": {},
   "outputs": [],
   "source": [
    "\n"
   ]
  },
  {
   "cell_type": "code",
   "execution_count": null,
   "id": "f19fa2ed-15c2-4b71-aa4d-2a338fb52109",
   "metadata": {},
   "outputs": [],
   "source": []
  },
  {
   "cell_type": "code",
   "execution_count": null,
   "id": "3089d7a2-5d75-4383-b318-c7af8f19ea7b",
   "metadata": {},
   "outputs": [],
   "source": []
  }
 ],
 "metadata": {
  "kernelspec": {
   "display_name": "Python [conda env:cmp]",
   "language": "python",
   "name": "conda-env-cmp-py"
  },
  "language_info": {
   "codemirror_mode": {
    "name": "ipython",
    "version": 3
   },
   "file_extension": ".py",
   "mimetype": "text/x-python",
   "name": "python",
   "nbconvert_exporter": "python",
   "pygments_lexer": "ipython3",
   "version": "3.9.7"
  }
 },
 "nbformat": 4,
 "nbformat_minor": 5
}
